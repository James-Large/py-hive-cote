{
 "cells": [
  {
   "cell_type": "markdown",
   "metadata": {},
   "source": [
    "# TimeSeriesForestClassifier\n",
    "\n",
    "#### Implementation notes\n",
    "* create `RandomIntervalFeatureExtractor` transformer\n",
    "* inherit from `ForestClassifier`, adapt to handle pipelines as individual trees, modifying `fit` and `predict_proba` methods\n",
    "* adapt `Pipeline` to handle `random_state`, propagate to all pipeline components with randomness, and `check_input` to deactivate input checks for all of its components\n",
    "* adapt sklearn helper functions `_parallel_build_trees` (booststrapping) and `_accumulate_predictions` \n",
    "* minor modification of `set_oob_scores` to handle pandas df as input\n",
    "* `check_input` has to be set to `True` in the `DecisionTreeClassifier` fit parameters, as it requires a `np.array` and cannot handle pandas dataframe without checking (and thereby transforming) the input. \n",
    "\n",
    "To do:\n",
    "* unit tests\n",
    "* extend `RandomIntervalFeatureExtractor` interface to accept arbitrary function(s) for (i) feature extraction and (ii) interval segmentation, optionally with additional args passed to the function\n",
    "* ideally replace tabular-data input checks with time-series/panel data checks, possibly implemented as part of the data-container\n",
    "* `feature_importances_` has to be adapted (e.g. as temporal importance curve as in the paper)\n",
    "* `decision_path()` has to be adapted\n",
    "* `apply` method has to be adapted\n",
    "* parallelise, change from threading to multi-processing? - currently no speed up when using multiple CPUs\n",
    "* implement \"entrance\" criterion (as in paper)"
   ]
  },
  {
   "cell_type": "code",
   "execution_count": 1,
   "metadata": {},
   "outputs": [],
   "source": [
    "%load_ext autoreload\n",
    "%autoreload 2\n",
    "\n",
    "from sktime.classifiers.ensemble import TimeSeriesForestClassifier\n",
    "from sktime.transformers.series_to_tabular import RandomIntervalFeatureExtractor\n",
    "from sklearn.tree import DecisionTreeClassifier\n",
    "from sktime.pipeline import TSPipeline\n",
    "from sktime.utils.load_data import load_from_web_to_xdataframe\n",
    "import pandas as pd\n",
    "import numpy as np\n",
    "from numba import jit"
   ]
  },
  {
   "cell_type": "code",
   "execution_count": 2,
   "metadata": {},
   "outputs": [
    {
     "name": "stdout",
     "output_type": "stream",
     "text": [
      "(50, 1) (50,) (150, 1) (150,)\n"
     ]
    }
   ],
   "source": [
    "cache_path = 'data/'\n",
    "dataset_name = 'GunPoint'\n",
    "X_train, y_train = load_from_web_to_xdataframe(dataset_name, is_train_file=True,\n",
    "                                               cache_path=cache_path) \n",
    "X_test, y_test = load_from_web_to_xdataframe(dataset_name, is_test_file=True,\n",
    "                                             cache_path=cache_path)\n",
    "X_train = pd.DataFrame(X_train)\n",
    "y_train = pd.Series(y_train)\n",
    "X_test = pd.DataFrame(X_test)\n",
    "y_test = pd.Series(y_test)\n",
    "print(X_train.shape, y_train.shape, X_test.shape, y_test.shape)"
   ]
  },
  {
   "cell_type": "code",
   "execution_count": 3,
   "metadata": {},
   "outputs": [],
   "source": [
    "@jit # simple but effective optimisation \n",
    "def time_series_slope(y):\n",
    "    n = y.shape[0]\n",
    "    if n < 2:\n",
    "        return 0\n",
    "    else:\n",
    "        x = np.arange(n) + 1\n",
    "        x_mu = x.mean()\n",
    "        return (((x * y).mean() - x_mu * y.mean())\n",
    "                / ((x ** 2).mean() - x_mu ** 2))"
   ]
  },
  {
   "cell_type": "code",
   "execution_count": 4,
   "metadata": {},
   "outputs": [],
   "source": [
    "features = [np.mean, np.std, time_series_slope]\n",
    "steps = [('transform', RandomIntervalFeatureExtractor(n_intervals='sqrt', features=features)), \n",
    "         ('clf', DecisionTreeClassifier())]\n",
    "base_estimator = TSPipeline(steps)"
   ]
  },
  {
   "cell_type": "code",
   "execution_count": 7,
   "metadata": {},
   "outputs": [
    {
     "name": "stdout",
     "output_type": "stream",
     "text": [
      "11.1 s ± 63 ms per loop (mean ± std. dev. of 7 runs, 1 loop each)\n",
      "29.5 s ± 253 ms per loop (mean ± std. dev. of 7 runs, 1 loop each)\n"
     ]
    }
   ],
   "source": [
    "clf = TimeSeriesForestClassifier(base_estimator=base_estimator, \n",
    "                                 n_estimators=500, \n",
    "                                 bootstrap=False,\n",
    "                                 oob_score=False,\n",
    "                                 n_jobs=1,\n",
    "                                 random_state=444)\n",
    "\n",
    "%timeit clf.fit(X_train, y_train)\n",
    "%timeit clf.score(X_test, y_test)"
   ]
  },
  {
   "cell_type": "code",
   "execution_count": null,
   "metadata": {},
   "outputs": [],
   "source": []
  },
  {
   "cell_type": "code",
   "execution_count": 5,
   "metadata": {},
   "outputs": [],
   "source": [
    "from joblib import parallel_backend"
   ]
  },
  {
   "cell_type": "code",
   "execution_count": 8,
   "metadata": {},
   "outputs": [
    {
     "name": "stdout",
     "output_type": "stream",
     "text": [
      "11.7 s ± 124 ms per loop (mean ± std. dev. of 7 runs, 1 loop each)\n",
      "30.3 s ± 414 ms per loop (mean ± std. dev. of 7 runs, 1 loop each)\n"
     ]
    }
   ],
   "source": [
    "with parallel_backend('loky', n_jobs=-1):\n",
    "    clf = TimeSeriesForestClassifier(base_estimator=base_estimator, \n",
    "                                     n_estimators=500, \n",
    "                                     bootstrap=False,\n",
    "                                     oob_score=False,\n",
    "                                     n_jobs=-1,\n",
    "                                     random_state=444)\n",
    "\n",
    "    %timeit clf.fit(X_train, y_train)\n",
    "    %timeit clf.score(X_test, y_test)"
   ]
  },
  {
   "cell_type": "code",
   "execution_count": null,
   "metadata": {},
   "outputs": [],
   "source": []
  }
 ],
 "metadata": {
  "kernelspec": {
   "display_name": "Python 3",
   "language": "python",
   "name": "python3"
  },
  "language_info": {
   "codemirror_mode": {
    "name": "ipython",
    "version": 3
   },
   "file_extension": ".py",
   "mimetype": "text/x-python",
   "name": "python",
   "nbconvert_exporter": "python",
   "pygments_lexer": "ipython3",
   "version": "3.7.1"
  }
 },
 "nbformat": 4,
 "nbformat_minor": 2
}
